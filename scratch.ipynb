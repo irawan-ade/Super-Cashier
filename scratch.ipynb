{
 "cells": [
  {
   "cell_type": "code",
   "execution_count": 1,
   "metadata": {},
   "outputs": [],
   "source": [
    "# class Transaction:    \n",
    "#     def __init__(self) -> None:\n",
    "#         self.order = []\n",
    "\n",
    "#     def add_item(self, name, qty, price_per_qty):\n",
    "#         '''\n",
    "#         Make list of items including quantity \n",
    "#             and the price per quantity\n",
    "#         add_item(name, qty, price_per_qty)    \n",
    "#         Input parameters:\n",
    "#             name <string>\n",
    "#             qty <int>\n",
    "#             price_per_qty <int>\n",
    "#         '''\n",
    "#         self.order.append([name, qty, price_per_qty])\n",
    "\n",
    "#     def update_item_name(self, old_name, new_name):\n",
    "#         self.order.replace(old_name, new_name)"
   ]
  },
  {
   "cell_type": "code",
   "execution_count": 2,
   "metadata": {},
   "outputs": [],
   "source": [
    "# trx1 = Transaction()"
   ]
  },
  {
   "cell_type": "code",
   "execution_count": 3,
   "metadata": {},
   "outputs": [],
   "source": [
    "# trx1.add_item('buku', 4, 10000)\n",
    "# trx1.add_item('pensil', 5, 2000)"
   ]
  },
  {
   "cell_type": "code",
   "execution_count": 4,
   "metadata": {},
   "outputs": [],
   "source": [
    "# trx1.order"
   ]
  },
  {
   "cell_type": "code",
   "execution_count": 5,
   "metadata": {},
   "outputs": [],
   "source": [
    "order = []"
   ]
  },
  {
   "cell_type": "code",
   "execution_count": 6,
   "metadata": {},
   "outputs": [
    {
     "name": "stdout",
     "output_type": "stream",
     "text": [
      "Selamat Datang di PacMart\n"
     ]
    }
   ],
   "source": [
    "print(\"Selamat Datang di PacMart\")"
   ]
  },
  {
   "cell_type": "code",
   "execution_count": 7,
   "metadata": {},
   "outputs": [],
   "source": [
    "def menu():\n",
    "    '''\n",
    "        Tampilkan menu pilihan aksi yang bisa dilakukan pelanggan\n",
    "    '''\n",
    "    print( \\\n",
    "    \" Pilih angka berdasarkan apa yang ingin Anda lakukan: \\n \\\n",
    "      1. Tambah barang \\n \\\n",
    "      2. Update nama barang \\n \\\n",
    "      3. Update jumlah barang \\n \\\n",
    "      4. Update harga barang per item \\n \\\n",
    "      5. Hapus barang dari keranjang pembelian \\n \\\n",
    "      6. Hapus semua barang dari keranjang pembelian \\n \\\n",
    "      7. Lihat semua pesanan beserta harganya \\n \\\n",
    "      8. Check Out \"\n",
    "    )"
   ]
  },
  {
   "cell_type": "code",
   "execution_count": 8,
   "metadata": {},
   "outputs": [
    {
     "name": "stdout",
     "output_type": "stream",
     "text": [
      " Pilih angka berdasarkan apa yang ingin Anda lakukan: \n",
      "       1. Tambah barang \n",
      "       2. Update nama barang \n",
      "       3. Update jumlah barang \n",
      "       4. Update harga barang per item \n",
      "       5. Hapus barang dari keranjang pembelian \n",
      "       6. Hapus semua barang dari keranjang pembelian \n",
      "       7. Lihat semua pesanan beserta harganya \n",
      "       8. Check Out \n"
     ]
    }
   ],
   "source": [
    "menu()"
   ]
  },
  {
   "cell_type": "code",
   "execution_count": 9,
   "metadata": {},
   "outputs": [],
   "source": [
    "import re\n",
    "\n",
    "def is_in_cart(item_name, order_list):\n",
    "    '''\n",
    "    cek apakah barang sudah ada dalam lis pembelian\n",
    "    \n",
    "    Parameters:\n",
    "        item_name (str)  : nama barang\n",
    "        order_list (list) : lis pembelian\n",
    "    Returns:\n",
    "        True/False (Bool): ada/tidak ada di lis\n",
    "        idx        (int) : ada di lis pada urutan ke idx+1\n",
    "    '''    \n",
    "    for idx, item in enumerate(order_list):\n",
    "        if re.match(\"^\"+item_name.lower()+\"$\", item[0].lower()):\n",
    "            return True, idx\n",
    "            break\n",
    "    return False, -1 # -1 is just a dummy number"
   ]
  },
  {
   "cell_type": "code",
   "execution_count": 10,
   "metadata": {},
   "outputs": [],
   "source": [
    "def add_item(*item_list):\n",
    "    '''\n",
    "    menambah barang pembelanjaan\n",
    "    \n",
    "    Parameters:\n",
    "        item_list (list) : lis dari lis item yang berisikan: \n",
    "                            nama, jumlah item, harga per item\n",
    "    Returns:\n",
    "        -\n",
    "    '''\n",
    "    for item in item_list:\n",
    "        # extract name, quantity, and price per qty in the list\n",
    "        name          = item[0]\n",
    "        qty           = item[1]\n",
    "        price_per_qty = item[2]\n",
    "        \n",
    "        if is_in_cart(name, order)[0]:\n",
    "            print(name, 'sudah ada dalam lis urutan ke', is_in_cart(name, order)[1]+1,'! Silahkan update jumlah atau harganya.')\n",
    "        else:\n",
    "            order.append([name, qty, price_per_qty, qty*price_per_qty])\n",
    "            print(qty, name, 'berhasil ditambahkan ke keranjang.')"
   ]
  },
  {
   "cell_type": "code",
   "execution_count": 11,
   "metadata": {},
   "outputs": [
    {
     "name": "stdout",
     "output_type": "stream",
     "text": [
      "10 buku berhasil ditambahkan ke keranjang.\n",
      "30 pensil berhasil ditambahkan ke keranjang.\n"
     ]
    }
   ],
   "source": [
    "add_item(['buku', 10, 20000], ['pensil', 30, 10000])"
   ]
  },
  {
   "cell_type": "code",
   "execution_count": 12,
   "metadata": {},
   "outputs": [
    {
     "name": "stdout",
     "output_type": "stream",
     "text": [
      "5 penghapus berhasil ditambahkan ke keranjang.\n"
     ]
    }
   ],
   "source": [
    "add_item(['penghapus', 5, 5000])"
   ]
  },
  {
   "cell_type": "code",
   "execution_count": 13,
   "metadata": {},
   "outputs": [
    {
     "name": "stdout",
     "output_type": "stream",
     "text": [
      "BuKu sudah ada dalam lis urutan ke 1 ! Silahkan update jumlah atau harganya.\n"
     ]
    }
   ],
   "source": [
    "add_item(['BuKu', 5, 5000])"
   ]
  },
  {
   "cell_type": "code",
   "execution_count": 14,
   "metadata": {},
   "outputs": [],
   "source": [
    "from tabulate import tabulate\n",
    "\n",
    "def show_table(order_list, \n",
    "               headers=[\"No\",\"Nama Item\", \"Jumlah Item\", \"Harga/item\", \"Total Harga\"],\n",
    "               table_format = \"outline\"):\n",
    "    '''\n",
    "    menampilkan tabel lis pembelian\n",
    "    \n",
    "    Parameters:\n",
    "        order_list (list)   : lis pembelian\n",
    "        header (list)       : lis nama kolom\n",
    "        table_format (str)  : tabulate table format\n",
    "                              https://pypi.org/project/tabulate/\n",
    "    Returns:\n",
    "        -\n",
    "    '''\n",
    "    # untuk menambahkan nomor pada kolom nomor\n",
    "    number_id = range(1, len(order_list)+1)\n",
    "    print(tabulate(order_list, headers=headers, tablefmt=table_format, showindex=number_id))    "
   ]
  },
  {
   "cell_type": "code",
   "execution_count": 15,
   "metadata": {},
   "outputs": [],
   "source": [
    "def check_order():\n",
    "    '''\n",
    "    lihat semua pembelian\n",
    "    \n",
    "    Parameters:\n",
    "        -\n",
    "    Returns:\n",
    "        -\n",
    "    '''    \n",
    "    # check kesalahan input data\n",
    "    valid_entry = True\n",
    "    for item in order:\n",
    "        if not isinstance(item[0], str) or \\\n",
    "           not isinstance(item[1], int) or \\\n",
    "           not isinstance(item[2], int):\n",
    "           valid_entry = False\n",
    "           break\n",
    "\n",
    "    show_table(order)\n",
    "\n",
    "    if valid_entry:    \n",
    "        print('Pemesanan sudah benar')\n",
    "    else:\n",
    "        print(\"Terdapat kesalahan dalam input data\")"
   ]
  },
  {
   "cell_type": "code",
   "execution_count": 16,
   "metadata": {},
   "outputs": [
    {
     "name": "stdout",
     "output_type": "stream",
     "text": [
      "+------+-------------+---------------+--------------+---------------+\n",
      "|   No | Nama Item   |   Jumlah Item |   Harga/item |   Total Harga |\n",
      "+======+=============+===============+==============+===============+\n",
      "|    1 | buku        |            10 |        20000 |        200000 |\n",
      "|    2 | pensil      |            30 |        10000 |        300000 |\n",
      "|    3 | penghapus   |             5 |         5000 |         25000 |\n",
      "+------+-------------+---------------+--------------+---------------+\n",
      "Pemesanan sudah benar\n"
     ]
    }
   ],
   "source": [
    "check_order()"
   ]
  },
  {
   "cell_type": "code",
   "execution_count": 17,
   "metadata": {},
   "outputs": [],
   "source": [
    "def delete_item(item_name):\n",
    "    '''\n",
    "    hapus suatu barang tertentu dari lis pembelian\n",
    "    \n",
    "    Parameters:\n",
    "        item_name (str) : nama barang\n",
    "    Returns:\n",
    "        -\n",
    "    '''      \n",
    "    available, idx = is_in_cart(item_name, order)\n",
    "    if available:\n",
    "        del order[idx]\n",
    "        print(item_name, 'berhasil dihapus dari keranjang.')\n",
    "    else:\n",
    "        print('Barang tidak ada di keranjang. Periksa lagi !')"
   ]
  },
  {
   "cell_type": "code",
   "execution_count": 18,
   "metadata": {},
   "outputs": [
    {
     "name": "stdout",
     "output_type": "stream",
     "text": [
      "20 buku gambar berhasil ditambahkan ke keranjang.\n"
     ]
    }
   ],
   "source": [
    "add_item(['buku gambar', 20, 100000])"
   ]
  },
  {
   "cell_type": "code",
   "execution_count": 19,
   "metadata": {},
   "outputs": [
    {
     "name": "stdout",
     "output_type": "stream",
     "text": [
      "penghapus berhasil dihapus dari keranjang.\n"
     ]
    }
   ],
   "source": [
    "delete_item('penghapus')"
   ]
  },
  {
   "cell_type": "code",
   "execution_count": 20,
   "metadata": {},
   "outputs": [],
   "source": [
    "def update_item_name(item_name, new_name):\n",
    "    '''\n",
    "    update nama barang\n",
    "    \n",
    "    Parameters:\n",
    "        item_name (str) : nama lama dari barang\n",
    "        new_name (str)  : nama baru dari barang\n",
    "    Returns:\n",
    "        -\n",
    "    '''          \n",
    "    available, idx = is_in_cart(item_name, order)\n",
    "    if available:\n",
    "        order[idx][0] = new_name\n",
    "        print('Nama barang berhasil diperbaharui.')\n",
    "    else:\n",
    "        print('Barang tidak ada di keranjang. Periksa lagi !')"
   ]
  },
  {
   "cell_type": "code",
   "execution_count": 21,
   "metadata": {},
   "outputs": [
    {
     "name": "stdout",
     "output_type": "stream",
     "text": [
      "Nama barang berhasil diperbaharui.\n"
     ]
    }
   ],
   "source": [
    "update_item_name('buku gambar', 'Drawing book')"
   ]
  },
  {
   "cell_type": "code",
   "execution_count": 22,
   "metadata": {},
   "outputs": [],
   "source": [
    "def update_item_qty(item_name, new_qty):\n",
    "    '''\n",
    "    update jumlah barang\n",
    "    \n",
    "    Parameters:\n",
    "        item_name (str) : nama barang\n",
    "        new_qty (int)   : jumlah barang  \n",
    "    Returns:\n",
    "        -\n",
    "    '''          \n",
    "    available, idx = is_in_cart(item_name, order)\n",
    "    if available:\n",
    "        # update jumlah barang\n",
    "        order[idx][1] = new_qty\n",
    "        # update total harga\n",
    "        order[idx][3] = order[idx][1] * order[idx][2]\n",
    "        print('Jumlah', item_name, 'berhasil diperbaharui menjadi', new_qty)\n",
    "    else:\n",
    "        print('Barang tidak ada di keranjang. Periksa lagi !')"
   ]
  },
  {
   "cell_type": "code",
   "execution_count": 23,
   "metadata": {},
   "outputs": [
    {
     "name": "stdout",
     "output_type": "stream",
     "text": [
      "Jumlah Drawing book berhasil diperbaharui menjadi 5\n"
     ]
    }
   ],
   "source": [
    "update_item_qty('Drawing book', 5)"
   ]
  },
  {
   "cell_type": "code",
   "execution_count": 24,
   "metadata": {},
   "outputs": [
    {
     "name": "stdout",
     "output_type": "stream",
     "text": [
      "+------+--------------+---------------+--------------+---------------+\n",
      "|   No | Nama Item    |   Jumlah Item |   Harga/item |   Total Harga |\n",
      "+======+==============+===============+==============+===============+\n",
      "|    1 | buku         |            10 |        20000 |        200000 |\n",
      "|    2 | pensil       |            30 |        10000 |        300000 |\n",
      "|    3 | Drawing book |             5 |       100000 |        500000 |\n",
      "+------+--------------+---------------+--------------+---------------+\n",
      "Pemesanan sudah benar\n"
     ]
    }
   ],
   "source": [
    "check_order()"
   ]
  },
  {
   "cell_type": "code",
   "execution_count": 25,
   "metadata": {},
   "outputs": [],
   "source": [
    "def update_item_price(item_name, new_price):\n",
    "    '''\n",
    "    update harga barang\n",
    "    \n",
    "    Parameters:\n",
    "        item_name (str) : nama barang\n",
    "        new_price (int) : harga barang  \n",
    "    Returns:\n",
    "        -\n",
    "    '''      \n",
    "    available, idx = is_in_cart(item_name, order)\n",
    "    if available:\n",
    "        # update harga barang\n",
    "        order[idx][2] = new_price\n",
    "        # update total harga\n",
    "        order[idx][3] = order[idx][1] * order[idx][2]        \n",
    "        print('Harga', item_name, 'berhasil diperbaharui menjadi', new_price, 'per item')\n",
    "    else:\n",
    "        print('Barang tidak ada di keranjang. Periksa lagi !')"
   ]
  },
  {
   "cell_type": "code",
   "execution_count": 26,
   "metadata": {},
   "outputs": [
    {
     "name": "stdout",
     "output_type": "stream",
     "text": [
      "Harga Drawing book berhasil diperbaharui menjadi 120000 per item\n"
     ]
    }
   ],
   "source": [
    "update_item_price('Drawing book', 120000)"
   ]
  },
  {
   "cell_type": "code",
   "execution_count": 27,
   "metadata": {},
   "outputs": [],
   "source": [
    "def reset_transaction():\n",
    "    '''\n",
    "    hapus semua transaksi\n",
    "    \n",
    "    Parameters:\n",
    "        -\n",
    "    Returns:\n",
    "        order (list): lis kosong\n",
    "    '''      \n",
    "    order = []\n",
    "    print('Semua item berhasil dihapus !')\n",
    "    return order"
   ]
  },
  {
   "cell_type": "code",
   "execution_count": 28,
   "metadata": {},
   "outputs": [
    {
     "name": "stdout",
     "output_type": "stream",
     "text": [
      "Semua item berhasil dihapus !\n"
     ]
    }
   ],
   "source": [
    "order = reset_transaction()"
   ]
  },
  {
   "cell_type": "code",
   "execution_count": 29,
   "metadata": {},
   "outputs": [
    {
     "name": "stdout",
     "output_type": "stream",
     "text": [
      "+------+-------------+---------------+--------------+---------------+\n",
      "| No   | Nama Item   | Jumlah Item   | Harga/item   | Total Harga   |\n",
      "+======+=============+===============+==============+===============+\n",
      "+------+-------------+---------------+--------------+---------------+\n",
      "Pemesanan sudah benar\n"
     ]
    }
   ],
   "source": [
    "check_order()"
   ]
  },
  {
   "cell_type": "code",
   "execution_count": 30,
   "metadata": {},
   "outputs": [
    {
     "name": "stdout",
     "output_type": "stream",
     "text": [
      "10 buku berhasil ditambahkan ke keranjang.\n",
      "30 pensil berhasil ditambahkan ke keranjang.\n",
      "20 penghapus berhasil ditambahkan ke keranjang.\n"
     ]
    }
   ],
   "source": [
    "add_item(['buku', 10, 20000], \n",
    "         ['pensil', 30, 10000],\n",
    "         ['penghapus', 20, 1000])"
   ]
  },
  {
   "cell_type": "code",
   "execution_count": 31,
   "metadata": {},
   "outputs": [
    {
     "name": "stdout",
     "output_type": "stream",
     "text": [
      "+------+-------------+---------------+--------------+---------------+\n",
      "|   No | Nama Item   |   Jumlah Item |   Harga/item |   Total Harga |\n",
      "+======+=============+===============+==============+===============+\n",
      "|    1 | buku        |            10 |        20000 |        200000 |\n",
      "|    2 | pensil      |            30 |        10000 |        300000 |\n",
      "|    3 | penghapus   |            20 |         1000 |         20000 |\n",
      "+------+-------------+---------------+--------------+---------------+\n",
      "Pemesanan sudah benar\n"
     ]
    }
   ],
   "source": [
    "check_order()"
   ]
  },
  {
   "cell_type": "code",
   "execution_count": 32,
   "metadata": {},
   "outputs": [],
   "source": [
    "def promo(harga):\n",
    "    '''\n",
    "    hitung besarnya potongan dari diskon\n",
    "    serta harga total setelah diskon\n",
    "    \n",
    "    Parameters:\n",
    "        harga (int) : harga awal sebelum diskon\n",
    "    Returns:\n",
    "        besar_potongan (int): besarnya potongan karena diskon\n",
    "        harga_setelah_diskon (int): harga setelah diskon\n",
    "    '''     \n",
    "    diskon = 0\n",
    "    if harga > 500000:\n",
    "        diskon = 0.07\n",
    "    elif harga > 300000:    \n",
    "        diskon = 0.06\n",
    "    elif harga > 200000:\n",
    "        diskon = 0.05\n",
    "        \n",
    "    besar_potongan = int(harga * diskon)\n",
    "    harga_setelah_diskon = int(harga - besar_potongan)\n",
    "    \n",
    "    return besar_potongan, harga_setelah_diskon"
   ]
  },
  {
   "cell_type": "code",
   "execution_count": 33,
   "metadata": {},
   "outputs": [],
   "source": [
    "import copy\n",
    "\n",
    "def check_out():\n",
    "    '''\n",
    "    Hitung dan cetak total belanja setelah diskon\n",
    "    \n",
    "    Parameters:\n",
    "        -\n",
    "    Returns:\n",
    "        temp_order_list (list): list belanja yang dilengkapi\n",
    "                                besar potongan dan\n",
    "                                harga setelah diskon\n",
    "    '''     \n",
    "    temp_order_list = copy.deepcopy(order)\n",
    "    total_harga_sebelum_diskon = 0\n",
    "    total_harga_setelah_diskon = 0\n",
    "    total_potongan = 0\n",
    "    \n",
    "    for idx, item in enumerate(temp_order_list):\n",
    "        total_harga = item[3]\n",
    "        besar_potongan, harga_setelah_diskon = promo(total_harga)\n",
    "        \n",
    "        # tambahkan kolom potongan dan harga setelah diskon\n",
    "        temp_order_list[idx].append(besar_potongan)\n",
    "        temp_order_list[idx].append(harga_setelah_diskon)        \n",
    "        \n",
    "        # hitung total\n",
    "        total_harga_sebelum_diskon += total_harga \n",
    "        total_potongan += besar_potongan\n",
    "        total_harga_setelah_diskon += harga_setelah_diskon\n",
    "    \n",
    "    \n",
    "    # Cetak tabel berisikan info potongan dan harga setelah diskon\n",
    "    show_table(temp_order_list,\n",
    "               headers=[\"No\",\"Nama Item\", \"Jumlah Item\", \n",
    "                        \"Harga/item\", \"Total Harga\",\n",
    "                        \"Besar Potongan\", \"Harga Setelah Diskon\"])\n",
    "    \n",
    "    # Cetak notifikasi\n",
    "    print('Total belanja Anda sebelum potongan:', total_harga_sebelum_diskon, 'rupiah')\n",
    "    print('Anda telah berhemat', total_potongan, 'rupiah')\n",
    "    print('Total belanja Anda menjadi', total_harga_setelah_diskon, 'rupiah')\n",
    "    \n",
    "    return temp_order_list"
   ]
  },
  {
   "cell_type": "code",
   "execution_count": 34,
   "metadata": {},
   "outputs": [
    {
     "name": "stdout",
     "output_type": "stream",
     "text": [
      "+------+-------------+---------------+--------------+---------------+------------------+------------------------+\n",
      "|   No | Nama Item   |   Jumlah Item |   Harga/item |   Total Harga |   Besar Potongan |   Harga Setelah Diskon |\n",
      "+======+=============+===============+==============+===============+==================+========================+\n",
      "|    1 | buku        |            10 |        20000 |        200000 |                0 |                 200000 |\n",
      "|    2 | pensil      |            30 |        10000 |        300000 |            15000 |                 285000 |\n",
      "|    3 | penghapus   |            20 |         1000 |         20000 |                0 |                  20000 |\n",
      "+------+-------------+---------------+--------------+---------------+------------------+------------------------+\n",
      "Total belanja Anda sebelum potongan: 520000 rupiah\n",
      "Anda telah berhemat 15000 rupiah\n",
      "Total belanja Anda menjadi 505000 rupiah\n"
     ]
    }
   ],
   "source": [
    "final_order = check_out()"
   ]
  },
  {
   "cell_type": "code",
   "execution_count": 35,
   "metadata": {},
   "outputs": [
    {
     "name": "stdout",
     "output_type": "stream",
     "text": [
      "+------+-------------+---------------+--------------+---------------+\n",
      "|   No | Nama Item   |   Jumlah Item |   Harga/item |   Total Harga |\n",
      "+======+=============+===============+==============+===============+\n",
      "|    1 | buku        |            10 |        20000 |        200000 |\n",
      "|    2 | pensil      |            30 |        10000 |        300000 |\n",
      "|    3 | penghapus   |            20 |         1000 |         20000 |\n",
      "+------+-------------+---------------+--------------+---------------+\n",
      "Pemesanan sudah benar\n"
     ]
    }
   ],
   "source": [
    "check_order()"
   ]
  },
  {
   "cell_type": "code",
   "execution_count": 36,
   "metadata": {},
   "outputs": [
    {
     "name": "stdout",
     "output_type": "stream",
     "text": [
      "10 tas berhasil ditambahkan ke keranjang.\n"
     ]
    }
   ],
   "source": [
    "add_item(['tas', 10, 100000])"
   ]
  },
  {
   "cell_type": "code",
   "execution_count": 37,
   "metadata": {},
   "outputs": [
    {
     "name": "stdout",
     "output_type": "stream",
     "text": [
      "+------+-------------+---------------+--------------+---------------+------------------+------------------------+\n",
      "|   No | Nama Item   |   Jumlah Item |   Harga/item |   Total Harga |   Besar Potongan |   Harga Setelah Diskon |\n",
      "+======+=============+===============+==============+===============+==================+========================+\n",
      "|    1 | buku        |            10 |        20000 |        200000 |                0 |                 200000 |\n",
      "|    2 | pensil      |            30 |        10000 |        300000 |            15000 |                 285000 |\n",
      "|    3 | penghapus   |            20 |         1000 |         20000 |                0 |                  20000 |\n",
      "|    4 | tas         |            10 |       100000 |       1000000 |            70000 |                 930000 |\n",
      "+------+-------------+---------------+--------------+---------------+------------------+------------------------+\n",
      "Total belanja Anda sebelum potongan: 1520000 rupiah\n",
      "Anda telah berhemat 85000 rupiah\n",
      "Total belanja Anda menjadi 1435000 rupiah\n"
     ]
    }
   ],
   "source": [
    "final_order = check_out()"
   ]
  },
  {
   "cell_type": "code",
   "execution_count": 38,
   "metadata": {},
   "outputs": [],
   "source": [
    "# import library sqlalchemy\n",
    "import sqlalchemy\n",
    "from sqlalchemy import create_engine, text"
   ]
  },
  {
   "cell_type": "code",
   "execution_count": 39,
   "metadata": {},
   "outputs": [],
   "source": [
    "# Konfigurasi database\n",
    "# buat variabel konfigurasi sebagai konstan\n",
    "# buat sqlite sebagai engine\n",
    "ENGINE = create_engine('sqlite:///data.db')"
   ]
  },
  {
   "cell_type": "code",
   "execution_count": 40,
   "metadata": {},
   "outputs": [],
   "source": [
    "# Koneksi database\n",
    "# buat variabel koneksi sebagai konstan\n",
    "CONN = ENGINE.connect()"
   ]
  },
  {
   "cell_type": "code",
   "execution_count": 41,
   "metadata": {},
   "outputs": [],
   "source": [
    "# buat fungsi untuk membuat table pada database\n",
    "def create_table():\n",
    "    \"\"\"\n",
    "    Fungsi untuk membuat table baru\n",
    "\n",
    "    args:\n",
    "        None\n",
    "\n",
    "    return:\n",
    "        None\n",
    "    \"\"\"\n",
    "    # Query untuk membuat table dengan nama transactions\n",
    "    query_buat_table = \"\"\"\n",
    "    CREATE TABLE transactions(\n",
    "        ID INTEGER PRIMARY KEY AUTOINCREMENT,\n",
    "        nama_item STRING,\n",
    "        jumlah_item INTEGER,\n",
    "        harga INTEGER,\n",
    "        total_harga INTEGER,\n",
    "        diskon INTEGER,\n",
    "        harga_diskon INTEGER)\n",
    "    \"\"\"\n",
    "\n",
    "    # Eksekusi query\n",
    "    CONN.execute(text(query_buat_table))"
   ]
  },
  {
   "cell_type": "code",
   "execution_count": 42,
   "metadata": {},
   "outputs": [],
   "source": [
    "# memanggil fungsi create table\n",
    "create_table()"
   ]
  },
  {
   "cell_type": "code",
   "execution_count": 43,
   "metadata": {},
   "outputs": [
    {
     "name": "stdout",
     "output_type": "stream",
     "text": [
      "True\n"
     ]
    }
   ],
   "source": [
    "# Memeriksa table yang sudah dibuat\n",
    "check = sqlalchemy.inspect(ENGINE)\n",
    "\n",
    "print(check.has_table(\"transactions\"))"
   ]
  },
  {
   "cell_type": "code",
   "execution_count": 44,
   "metadata": {},
   "outputs": [],
   "source": [
    "data_list = [{'nama_item': value[0], \n",
    "              'jumlah_item': value[1], \n",
    "              'harga': value[2], \n",
    "              'total_harga': value[3],\n",
    "              'diskon': value[4],\n",
    "              'harga_diskon': value[5]} for value in final_order]"
   ]
  },
  {
   "cell_type": "code",
   "execution_count": 45,
   "metadata": {},
   "outputs": [],
   "source": [
    "# fungsi untuk memasukkan data ke database\n",
    "def insert_to_table(data_list):\n",
    "    \"\"\"\n",
    "    Fungsi untuk memasukkan data ke table database\n",
    "\n",
    "    args:\n",
    "        data_list (list) : nama list dari data order\n",
    "    return:\n",
    "        None\n",
    "    \"\"\"\n",
    "  \n",
    "    # Definisi SQL query untuk memasukkan data ke dalam table\n",
    "    insert_query = text(\"\"\"\n",
    "    INSERT INTO \n",
    "        transactions(nama_item,\n",
    "                  jumlah_item,\n",
    "                  harga,\n",
    "                  total_harga,\n",
    "                  diskon,\n",
    "                  harga_diskon)\n",
    "        VALUES(:nama_item,\n",
    "               :jumlah_item,\n",
    "               :harga,\n",
    "               :total_harga,\n",
    "               :diskon,\n",
    "               :harga_diskon)\n",
    "    \"\"\")\n",
    "\n",
    "    # Iterasi untuk memasukkan data per baris dari data list\n",
    "    for item in data_list:\n",
    "\n",
    "        # Eksekusi insert query untuk setiap baris data\n",
    "        CONN.execute(insert_query, item)"
   ]
  },
  {
   "cell_type": "code",
   "execution_count": 46,
   "metadata": {},
   "outputs": [],
   "source": [
    "insert_to_table(data_list)"
   ]
  },
  {
   "cell_type": "code",
   "execution_count": 47,
   "metadata": {},
   "outputs": [
    {
     "name": "stdout",
     "output_type": "stream",
     "text": [
      "1 buku 10 20000 0 200000\n",
      "2 pensil 30 10000 15000 285000\n",
      "3 penghapus 20 1000 0 20000\n",
      "4 tas 10 100000 70000 930000\n"
     ]
    }
   ],
   "source": [
    "# Eksekusi query untuk menampilkan data yang telah di INSERT\n",
    "result = CONN.execute(text(\"SELECT * FROM transactions\"))\n",
    "\n",
    "# Melakukan iterasi untuk menampilkan hasil query\n",
    "for res in result:\n",
    "    print(res.ID,\n",
    "          res.nama_item,\n",
    "          res.jumlah_item, \n",
    "          res.harga, \n",
    "          res.diskon, \n",
    "          res.harga_diskon)"
   ]
  },
  {
   "cell_type": "code",
   "execution_count": 48,
   "metadata": {},
   "outputs": [
    {
     "name": "stdout",
     "output_type": "stream",
     "text": [
      "+------+-------------+---------------+--------------+---------------+------------------+------------------------+\n",
      "|   No | Nama Item   |   Jumlah Item |   Harga/item |   Total Harga |   Besar Potongan |   Harga Setelah Diskon |\n",
      "+======+=============+===============+==============+===============+==================+========================+\n",
      "|    1 | buku        |            10 |        20000 |        200000 |                0 |                 200000 |\n",
      "|    2 | pensil      |            30 |        10000 |        300000 |            15000 |                 285000 |\n",
      "|    3 | penghapus   |            20 |         1000 |         20000 |                0 |                  20000 |\n",
      "|    4 | tas         |            10 |       100000 |       1000000 |            70000 |                 930000 |\n",
      "+------+-------------+---------------+--------------+---------------+------------------+------------------------+\n",
      "Total belanja Anda sebelum potongan: 1520000 rupiah\n",
      "Anda telah berhemat 85000 rupiah\n",
      "Total belanja Anda menjadi 1435000 rupiah\n"
     ]
    }
   ],
   "source": [
    "final_order = check_out()"
   ]
  },
  {
   "cell_type": "code",
   "execution_count": null,
   "metadata": {},
   "outputs": [],
   "source": []
  }
 ],
 "metadata": {
  "kernelspec": {
   "display_name": "Python 3 (ipykernel)",
   "language": "python",
   "name": "python3"
  },
  "language_info": {
   "codemirror_mode": {
    "name": "ipython",
    "version": 3
   },
   "file_extension": ".py",
   "mimetype": "text/x-python",
   "name": "python",
   "nbconvert_exporter": "python",
   "pygments_lexer": "ipython3",
   "version": "3.9.7"
  }
 },
 "nbformat": 4,
 "nbformat_minor": 4
}
