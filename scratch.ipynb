{
 "cells": [
  {
   "cell_type": "code",
   "execution_count": 1,
   "metadata": {},
   "outputs": [],
   "source": [
    "# class Transaction:    \n",
    "#     def __init__(self) -> None:\n",
    "#         self.order = []\n",
    "\n",
    "#     def add_item(self, name, qty, price_per_qty):\n",
    "#         '''\n",
    "#         Make list of items including quantity \n",
    "#             and the price per quantity\n",
    "#         add_item(name, qty, price_per_qty)    \n",
    "#         Input parameters:\n",
    "#             name <string>\n",
    "#             qty <int>\n",
    "#             price_per_qty <int>\n",
    "#         '''\n",
    "#         self.order.append([name, qty, price_per_qty])\n",
    "\n",
    "#     def update_item_name(self, old_name, new_name):\n",
    "#         self.order.replace(old_name, new_name)"
   ]
  },
  {
   "cell_type": "code",
   "execution_count": 2,
   "metadata": {},
   "outputs": [],
   "source": [
    "# trx1 = Transaction()"
   ]
  },
  {
   "cell_type": "code",
   "execution_count": 3,
   "metadata": {},
   "outputs": [],
   "source": [
    "# trx1.add_item('buku', 4, 10000)\n",
    "# trx1.add_item('pensil', 5, 2000)"
   ]
  },
  {
   "cell_type": "code",
   "execution_count": 4,
   "metadata": {},
   "outputs": [],
   "source": [
    "# trx1.order"
   ]
  },
  {
   "cell_type": "code",
   "execution_count": 1,
   "metadata": {},
   "outputs": [],
   "source": [
    "order = []"
   ]
  },
  {
   "cell_type": "code",
   "execution_count": 2,
   "metadata": {},
   "outputs": [],
   "source": [
    "import re\n",
    "\n",
    "def is_in_cart(item_name, order_list):\n",
    "    for idx, item in enumerate(order_list):\n",
    "        if re.match(\"^\"+item_name.lower()+\"$\", item[0].lower()):\n",
    "            return True, idx\n",
    "            break\n",
    "    return False, -1 # -1 is just a dummy number"
   ]
  },
  {
   "cell_type": "code",
   "execution_count": 8,
   "metadata": {},
   "outputs": [],
   "source": [
    "def add_item(name, qty, price_per_qty):\n",
    "    '''\n",
    "    membuat list dari item yang dibeli\n",
    "    \n",
    "    Parameters:\n",
    "        name (str) : nama item\n",
    "        qty (int) : jumlah item\n",
    "        price_per_qty (int) : harga per item\n",
    "\n",
    "    Returns:\n",
    "        -\n",
    "    '''\n",
    "    if is_in_cart(name, order)[0]:\n",
    "        print(name, 'sudah ada dalam lis ! Silahkan update jumlah atau harga.')\n",
    "    else:\n",
    "        order.append([name, qty, price_per_qty, qty*price_per_qty])\n",
    "        print(qty, name, 'berhasil ditambahkan ke lis pembelian.')"
   ]
  },
  {
   "cell_type": "code",
   "execution_count": 9,
   "metadata": {},
   "outputs": [
    {
     "name": "stdout",
     "output_type": "stream",
     "text": [
      "Buku cetak sudah ada dalam lis ! Silahkan update jumlah atau harga.\n",
      "Buku sudah ada dalam lis ! Silahkan update jumlah atau harga.\n",
      "buku gambar sudah ada dalam lis ! Silahkan update jumlah atau harga.\n"
     ]
    }
   ],
   "source": [
    "add_item('Buku cetak', 2, 500000)\n",
    "add_item('Buku', 3, 10000)\n",
    "add_item('buku gambar', 3, 20000)"
   ]
  },
  {
   "cell_type": "code",
   "execution_count": 10,
   "metadata": {},
   "outputs": [
    {
     "name": "stdout",
     "output_type": "stream",
     "text": [
      "[['Buku cetak', 2, 500000, 1000000], ['Buku', 3, 10000, 30000], ['buku gambar', 3, 20000, 60000]]\n"
     ]
    }
   ],
   "source": [
    "print(order)"
   ]
  },
  {
   "cell_type": "code",
   "execution_count": 11,
   "metadata": {},
   "outputs": [
    {
     "name": "stdout",
     "output_type": "stream",
     "text": [
      "2 kertas berhasil ditambahkan ke lis pembelian.\n"
     ]
    }
   ],
   "source": [
    "add_item('kertas', 2, 100)"
   ]
  },
  {
   "cell_type": "code",
   "execution_count": 14,
   "metadata": {},
   "outputs": [],
   "source": [
    "def update_item_name(item_name, new_name):\n",
    "    available, idx = is_in_cart(item_name, order)\n",
    "    if available:\n",
    "        order[idx][0] = new_name\n",
    "        print('Nama barang berhasil diperbaharui.')\n",
    "    else:\n",
    "        print('Nama barang tidak diketahui. Tolong periksa lagi.')"
   ]
  },
  {
   "cell_type": "code",
   "execution_count": 20,
   "metadata": {},
   "outputs": [
    {
     "name": "stdout",
     "output_type": "stream",
     "text": [
      "Nama barang berhasil diperbaharui.\n"
     ]
    }
   ],
   "source": [
    "update_item_name('buku gambar', 'Drawing book')"
   ]
  },
  {
   "cell_type": "code",
   "execution_count": 16,
   "metadata": {},
   "outputs": [
    {
     "name": "stdout",
     "output_type": "stream",
     "text": [
      "[['Buku cetak', 2, 500000, 1000000], ['Buku', 3, 10000, 30000], ['buku gambar', 3, 20000, 60000], ['kertas', 2, 100, 200]]\n"
     ]
    }
   ],
   "source": [
    "print(order)"
   ]
  },
  {
   "cell_type": "code",
   "execution_count": 18,
   "metadata": {},
   "outputs": [],
   "source": [
    "def update_item_qty(item_name, new_qty):\n",
    "    available, idx = is_in_cart(item_name, order)\n",
    "    if available:\n",
    "        order[idx][1] = new_qty\n",
    "        # update total harga\n",
    "        order[idx][3] = order[idx][1] * order[idx][2]\n",
    "        print('Jumlah', item_name, 'berhasil diperbaharui menjadi', new_qty)\n",
    "    else:\n",
    "        print('Nama barang tidak diketahui. Tolong periksa lagi.')"
   ]
  },
  {
   "cell_type": "code",
   "execution_count": 21,
   "metadata": {},
   "outputs": [
    {
     "name": "stdout",
     "output_type": "stream",
     "text": [
      "Jumlah Drawing book berhasil diperbaharui menjadi 5\n"
     ]
    }
   ],
   "source": [
    "update_item_qty('Drawing book', 5)"
   ]
  },
  {
   "cell_type": "code",
   "execution_count": 22,
   "metadata": {},
   "outputs": [
    {
     "name": "stdout",
     "output_type": "stream",
     "text": [
      "[['Buku cetak', 2, 500000, 1000000], ['Buku', 3, 10000, 30000], ['Drawing book', 5, 20000, 100000], ['kertas', 2, 100, 200]]\n"
     ]
    }
   ],
   "source": [
    "print(order)"
   ]
  },
  {
   "cell_type": "code",
   "execution_count": 25,
   "metadata": {},
   "outputs": [],
   "source": [
    "def update_item_price(item_name, new_price):\n",
    "    available, idx = is_in_cart(item_name, order)\n",
    "    if available:\n",
    "        order[idx][2] = new_price\n",
    "        # update total harga\n",
    "        order[idx][3] = order[idx][1] * order[idx][2]        \n",
    "        print('Harga', item_name, 'berhasil diperbaharui menjadi', new_price, 'per item')\n",
    "    else:\n",
    "        print('Nama barang tidak diketahui. Tolong periksa lagi.')"
   ]
  },
  {
   "cell_type": "code",
   "execution_count": 26,
   "metadata": {},
   "outputs": [
    {
     "name": "stdout",
     "output_type": "stream",
     "text": [
      "Harga Drawing book berhasil diperbaharui menjadi 120000 per item\n"
     ]
    }
   ],
   "source": [
    "update_item_price('Drawing book', 120000)"
   ]
  },
  {
   "cell_type": "code",
   "execution_count": 27,
   "metadata": {},
   "outputs": [
    {
     "name": "stdout",
     "output_type": "stream",
     "text": [
      "[['Buku cetak', 2, 500000, 1000000], ['Buku', 3, 10000, 30000], ['Drawing book', 5, 120000, 600000], ['kertas', 2, 100, 200]]\n"
     ]
    }
   ],
   "source": [
    "print(order)"
   ]
  },
  {
   "cell_type": "code",
   "execution_count": 40,
   "metadata": {},
   "outputs": [],
   "source": [
    "def delete_item(item_name):\n",
    "    available, idx = is_in_cart(item_name, order)\n",
    "    if available:\n",
    "        del order[idx]\n",
    "        print(item_name, 'berhasil dihapus dari lis pembelian.')\n",
    "    else:\n",
    "        print('Nama barang tidak diketahui. Tolong periksa lagi.')"
   ]
  },
  {
   "cell_type": "code",
   "execution_count": 32,
   "metadata": {},
   "outputs": [
    {
     "data": {
      "text/plain": [
       "[['Buku cetak', 2, 500000, 1000000],\n",
       " ['Drawing book', 5, 120000, 600000],\n",
       " ['kertas', 2, 100, 200]]"
      ]
     },
     "execution_count": 32,
     "metadata": {},
     "output_type": "execute_result"
    }
   ],
   "source": [
    "order"
   ]
  },
  {
   "cell_type": "code",
   "execution_count": 34,
   "metadata": {},
   "outputs": [
    {
     "name": "stdout",
     "output_type": "stream",
     "text": [
      "kertas berhasil dihapus dari kantong belanja.\n",
      "[['Buku cetak', 2, 500000, 1000000], ['Drawing book', 5, 120000, 600000]]\n"
     ]
    }
   ],
   "source": [
    "delete_item('kertas')\n",
    "print(order)"
   ]
  },
  {
   "cell_type": "code",
   "execution_count": 35,
   "metadata": {},
   "outputs": [],
   "source": [
    "def reset_transaction(order):\n",
    "    order = []\n",
    "    return order\n",
    "    print('Semua transaksi telah dihapus.')"
   ]
  },
  {
   "cell_type": "code",
   "execution_count": 36,
   "metadata": {},
   "outputs": [
    {
     "data": {
      "text/plain": [
       "[['Buku cetak', 2, 500000, 1000000], ['Drawing book', 5, 120000, 600000]]"
      ]
     },
     "execution_count": 36,
     "metadata": {},
     "output_type": "execute_result"
    }
   ],
   "source": [
    "order"
   ]
  },
  {
   "cell_type": "code",
   "execution_count": 37,
   "metadata": {},
   "outputs": [],
   "source": [
    "order = reset_transaction(order)"
   ]
  },
  {
   "cell_type": "code",
   "execution_count": 38,
   "metadata": {},
   "outputs": [
    {
     "data": {
      "text/plain": [
       "[]"
      ]
     },
     "execution_count": 38,
     "metadata": {},
     "output_type": "execute_result"
    }
   ],
   "source": [
    "order"
   ]
  },
  {
   "cell_type": "code",
   "execution_count": 39,
   "metadata": {},
   "outputs": [
    {
     "name": "stdout",
     "output_type": "stream",
     "text": [
      "1 buku berhasil ditambahkan ke lis pembelian.\n",
      "2 pensil berhasil ditambahkan ke lis pembelian.\n",
      "3 penghapus berhasil ditambahkan ke lis pembelian.\n",
      "1 tas berhasil ditambahkan ke lis pembelian.\n",
      "3 penggaris berhasil ditambahkan ke lis pembelian.\n"
     ]
    }
   ],
   "source": [
    "add_item('buku', 1, 10000)\n",
    "add_item('pensil', 2, 1000)\n",
    "add_item('penghapus', 3, 30000)\n",
    "add_item('tas', 1, 100000)\n",
    "add_item('penggaris', 3, 500)"
   ]
  },
  {
   "cell_type": "code",
   "execution_count": 41,
   "metadata": {},
   "outputs": [],
   "source": [
    "from tabulate import tabulate\n",
    "\n",
    "def show_table(order_list, \n",
    "               headers=[\"No\",\"Nama Item\", \"Jumlah Item\", \"Harga/item\", \"Total Harga\"],\n",
    "               table_format = \"outline\"):\n",
    "    number_id = range(1, len(order_list)+1)\n",
    "    print(tabulate(order_list, headers=headers, tablefmt=table_format, showindex=number_id))    "
   ]
  },
  {
   "cell_type": "code",
   "execution_count": 42,
   "metadata": {},
   "outputs": [],
   "source": [
    "def check_order(order_list):\n",
    "    # check kesalahan input data\n",
    "    valid_entry = True\n",
    "    for item in order_list:\n",
    "        if not isinstance(item[0], str) or \\\n",
    "           not isinstance(item[1], int) or \\\n",
    "           not isinstance(item[2], int):\n",
    "           valid_entry = False\n",
    "           break\n",
    "\n",
    "    show_table(order_list)\n",
    "\n",
    "    if valid_entry:    \n",
    "        print('Pemesanan sudah benar')\n",
    "    else:\n",
    "        print(\"Terdapat kesalahan dalam input data\")"
   ]
  },
  {
   "cell_type": "code",
   "execution_count": 43,
   "metadata": {},
   "outputs": [
    {
     "name": "stdout",
     "output_type": "stream",
     "text": [
      "+------+-------------+---------------+--------------+---------------+\n",
      "|   No | Nama Item   |   Jumlah Item |   Harga/item |   Total Harga |\n",
      "+======+=============+===============+==============+===============+\n",
      "|    1 | buku        |             1 |        10000 |         10000 |\n",
      "|    2 | pensil      |             2 |         1000 |          2000 |\n",
      "|    3 | penghapus   |             3 |        30000 |         90000 |\n",
      "|    4 | tas         |             1 |       100000 |        100000 |\n",
      "|    5 | penggaris   |             3 |          500 |          1500 |\n",
      "+------+-------------+---------------+--------------+---------------+\n",
      "Pemesanan sudah benar\n"
     ]
    }
   ],
   "source": [
    "check_order(order)"
   ]
  },
  {
   "cell_type": "code",
   "execution_count": 30,
   "metadata": {},
   "outputs": [
    {
     "name": "stdout",
     "output_type": "stream",
     "text": [
      "[['buku', 1, 10000, 10000], ['pensil', 2, 1000, 2000], ['penghapus', 3, 30000, 90000], ['tas', 1, 100000, 100000], ['penggaris', 3, 500, 1500]]\n"
     ]
    }
   ],
   "source": [
    "print(order)"
   ]
  },
  {
   "cell_type": "code",
   "execution_count": 31,
   "metadata": {},
   "outputs": [],
   "source": [
    "import copy\n",
    "\n",
    "def check_out(order_list):    \n",
    "    temp_order_list = copy.deepcopy(order_list)\n",
    "    total_harga_setelah_diskon = 0\n",
    "    for idx, item in enumerate(temp_order_list):\n",
    "        diskon = 0\n",
    "        if item[3] > 500000:\n",
    "            diskon = 0.07\n",
    "        elif item[3] > 300000:    \n",
    "            diskon = 0.06\n",
    "        elif item[3] > 200000:\n",
    "            diskon = 0.05\n",
    "\n",
    "        # update total harga setelah diskon\n",
    "        if diskon > 0:\n",
    "            temp_order_list[idx][3] = int(temp_order_list[idx][3] * (1-diskon))\n",
    "            print('Daftar harga sebelum diskon:')\n",
    "            show_table(order_list)\n",
    "            print('Daftar harga setelah diskon:')            \n",
    "\n",
    "        total_harga_setelah_diskon += temp_order_list[idx][3]\n",
    "      \n",
    "    show_table(temp_order_list)\n",
    "    print('Total belanja Anda sebesar', total_harga_setelah_diskon, 'rupiah')"
   ]
  },
  {
   "cell_type": "code",
   "execution_count": 32,
   "metadata": {},
   "outputs": [
    {
     "name": "stdout",
     "output_type": "stream",
     "text": [
      "+------+-------------+---------------+--------------+---------------+\n",
      "|   No | Nama Item   |   Jumlah Item |   Harga/item |   Total Harga |\n",
      "+======+=============+===============+==============+===============+\n",
      "|    1 | buku        |             1 |        10000 |         10000 |\n",
      "|    2 | pensil      |             2 |         1000 |          2000 |\n",
      "|    3 | penghapus   |             3 |        30000 |         90000 |\n",
      "|    4 | tas         |             1 |       100000 |        100000 |\n",
      "|    5 | penggaris   |             3 |          500 |          1500 |\n",
      "+------+-------------+---------------+--------------+---------------+\n",
      "Total belanja Anda sebesar 203500 rupiah\n"
     ]
    }
   ],
   "source": [
    "check_out(order)"
   ]
  },
  {
   "cell_type": "code",
   "execution_count": 33,
   "metadata": {},
   "outputs": [
    {
     "name": "stdout",
     "output_type": "stream",
     "text": [
      "Jumlah tas berhasil diperbaharui.\n",
      "Daftar harga sebelum diskon:\n",
      "+------+-------------+---------------+--------------+---------------+\n",
      "|   No | Nama Item   |   Jumlah Item |   Harga/item |   Total Harga |\n",
      "+======+=============+===============+==============+===============+\n",
      "|    1 | buku        |             1 |        10000 |         10000 |\n",
      "|    2 | pensil      |             2 |         1000 |          2000 |\n",
      "|    3 | penghapus   |             3 |        30000 |         90000 |\n",
      "|    4 | tas         |            10 |       100000 |       1000000 |\n",
      "|    5 | penggaris   |             3 |          500 |          1500 |\n",
      "+------+-------------+---------------+--------------+---------------+\n",
      "Daftar harga setelah diskon:\n",
      "+------+-------------+---------------+--------------+---------------+\n",
      "|   No | Nama Item   |   Jumlah Item |   Harga/item |   Total Harga |\n",
      "+======+=============+===============+==============+===============+\n",
      "|    1 | buku        |             1 |        10000 |         10000 |\n",
      "|    2 | pensil      |             2 |         1000 |          2000 |\n",
      "|    3 | penghapus   |             3 |        30000 |         90000 |\n",
      "|    4 | tas         |            10 |       100000 |        929999 |\n",
      "|    5 | penggaris   |             3 |          500 |          1500 |\n",
      "+------+-------------+---------------+--------------+---------------+\n",
      "Total belanja Anda sebesar 1033499 rupiah\n"
     ]
    }
   ],
   "source": [
    "update_item_qty('tas', 10)\n",
    "check_out(order)"
   ]
  },
  {
   "cell_type": "code",
   "execution_count": 45,
   "metadata": {},
   "outputs": [
    {
     "name": "stdout",
     "output_type": "stream",
     "text": [
      "2023-04-16 23:25:53,312 INFO sqlalchemy.engine.Engine BEGIN (implicit)\n",
      "2023-04-16 23:25:53,314 INFO sqlalchemy.engine.Engine PRAGMA main.table_info(\"transaction\")\n",
      "2023-04-16 23:25:53,317 INFO sqlalchemy.engine.Engine [raw sql] ()\n",
      "2023-04-16 23:25:53,320 INFO sqlalchemy.engine.Engine COMMIT\n"
     ]
    }
   ],
   "source": [
    "from sqlalchemy import create_engine, MetaData, Table, Column, Integer, String\n",
    "engine = create_engine('sqlite:///data.db', echo = True)\n",
    "meta = MetaData()\n",
    "\n",
    "transaction = Table(\n",
    "   'transaction', meta, \n",
    "   Column('id', Integer, primary_key = True), \n",
    "   Column('nama_item', String), \n",
    "   Column('jumlah_item', Integer),\n",
    "   Column('harga', Integer),\n",
    "   Column('total_harga', Integer),\n",
    "   Column('diskon', Integer),\n",
    "   Column('harga_diskon', Integer)\n",
    ")\n",
    "meta.create_all(engine)"
   ]
  },
  {
   "cell_type": "code",
   "execution_count": 46,
   "metadata": {},
   "outputs": [],
   "source": [
    "check = sqlalchemy.inspect(engine)"
   ]
  },
  {
   "cell_type": "code",
   "execution_count": 47,
   "metadata": {},
   "outputs": [
    {
     "name": "stdout",
     "output_type": "stream",
     "text": [
      "2023-04-16 23:25:59,366 INFO sqlalchemy.engine.Engine BEGIN (implicit)\n",
      "2023-04-16 23:25:59,368 INFO sqlalchemy.engine.Engine PRAGMA main.table_info(\"transaction\")\n",
      "2023-04-16 23:25:59,368 INFO sqlalchemy.engine.Engine [raw sql] ()\n",
      "2023-04-16 23:25:59,369 INFO sqlalchemy.engine.Engine ROLLBACK\n",
      "True\n"
     ]
    }
   ],
   "source": [
    "print(check.has_table(\"transaction\"))"
   ]
  },
  {
   "cell_type": "code",
   "execution_count": null,
   "metadata": {},
   "outputs": [],
   "source": [
    "def insert_to_table(data_list, source):\n",
    "    \"\"\"\n",
    "    Fungsi untuk memasukkan data ke table database\n",
    "\n",
    "    args:\n",
    "        data_list (list) : nama list dari data\n",
    "        source (str)     : nama sumber data\n",
    "    return:\n",
    "        None\n",
    "    \"\"\"\n",
    "\n",
    "    # Iterasi setiap item pada data_list\n",
    "    for item in data_list:\n",
    "        # mendapatkan nama negara\n",
    "        nama_negara = source.split(\" \")[-1]\n",
    "\n",
    "        # Buat nama country menjadi huruf kapital\n",
    "        item['country'] = nama_negara.upper()\n",
    "\n",
    "        # Tambahkan data data_source pada data_list\n",
    "        item['data_source'] = source\n",
    "  \n",
    "    # Definisi SQL query untuk memasukkan data ke dalam table\n",
    "    insert_query = text(\"\"\"\n",
    "    INSERT INTO \n",
    "        transaction(nama_item,\n",
    "                  jumlah_item, \n",
    "                  model_feronika, \n",
    "                  model_xbender, \n",
    "                  model_innovi, \n",
    "                  model_pajeri,\n",
    "                  revenue_feronika, \n",
    "                  revenue_xbender, \n",
    "                  revenue_innovi, \n",
    "                  revenue_pajeri, \n",
    "                  data_source)\n",
    "        VALUES(:report_date, \n",
    "               :country,\n",
    "               :model_feronika, \n",
    "               :model_xbender, \n",
    "               :model_innovi, \n",
    "               :model_pajeri,\n",
    "               :revenue_feronika, \n",
    "               :revenue_xbender, \n",
    "               :revenue_innovi, \n",
    "               :revenue_pajeri, \n",
    "               :data_source) \n",
    "    \"\"\")\n",
    "\n",
    "    # Iterasi untuk memasukkan data per baris dari data list\n",
    "    for item in data_list:\n",
    "\n",
    "        # Eksekusi insert query untuk setiap baris data\n",
    "        CONN.execute(insert_query, item)"
   ]
  }
 ],
 "metadata": {
  "kernelspec": {
   "display_name": "Python 3",
   "language": "python",
   "name": "python3"
  },
  "language_info": {
   "codemirror_mode": {
    "name": "ipython",
    "version": 3
   },
   "file_extension": ".py",
   "mimetype": "text/x-python",
   "name": "python",
   "nbconvert_exporter": "python",
   "pygments_lexer": "ipython3",
   "version": "3.7.6"
  },
  "orig_nbformat": 4
 },
 "nbformat": 4,
 "nbformat_minor": 2
}
