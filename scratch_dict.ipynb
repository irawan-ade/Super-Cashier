{
 "cells": [
  {
   "cell_type": "code",
   "execution_count": 1,
   "metadata": {},
   "outputs": [],
   "source": [
    "order = {}"
   ]
  },
  {
   "cell_type": "code",
   "execution_count": 2,
   "metadata": {},
   "outputs": [],
   "source": [
    "def is_in_cart(item_name, cart):\n",
    "    '''\n",
    "    cek apakah barang sudah ada dalam lis pembelian\n",
    "    \n",
    "    Parameters:\n",
    "        item_name (str)  : nama barang\n",
    "        cart (dict) : lis pembelian\n",
    "    Returns:\n",
    "        True/False (Bool): ada/tidak ada di lis\n",
    "    '''    \n",
    "    \n",
    "    for key, val in cart.items():\n",
    "        if item_name.lower() == key.lower():\n",
    "            return True, key\n",
    "            break\n",
    "    return False, -1 # -1 is just a dummy"
   ]
  },
  {
   "cell_type": "code",
   "execution_count": 3,
   "metadata": {},
   "outputs": [],
   "source": [
    "def add_item(*item_list):\n",
    "    '''\n",
    "    menambah barang pembelanjaan\n",
    "    \n",
    "    Parameters:\n",
    "        item_list (list) : lis dari lis item yang berisikan: \n",
    "                            nama, jumlah item, harga per item\n",
    "    Returns:\n",
    "        -\n",
    "    '''\n",
    "    for item in item_list:\n",
    "        if len(item) != 3:\n",
    "            print('Masukkan secara terurut dalam format list: [nama barang, jumlah, harga per item]')\n",
    "            break\n",
    "        else:\n",
    "            # extract name, quantity, and price per qty in the list\n",
    "            name          = item[0]\n",
    "            qty           = item[1]\n",
    "            price_per_qty = item[2]\n",
    "            \n",
    "            available, item_name = is_in_cart(name, order)\n",
    "\n",
    "            if available:\n",
    "                print('Barang dengan nama', item_name, 'sudah ada dalam keranjang!\\nSilahkan update jumlah atau harganya.')\n",
    "            else:\n",
    "                order[name] = [qty, price_per_qty]\n",
    "                print(qty, name, 'berhasil ditambahkan ke keranjang.')"
   ]
  },
  {
   "cell_type": "code",
   "execution_count": 4,
   "metadata": {},
   "outputs": [
    {
     "name": "stdout",
     "output_type": "stream",
     "text": [
      "10 buku berhasil ditambahkan ke keranjang.\n",
      "30 pensil berhasil ditambahkan ke keranjang.\n"
     ]
    }
   ],
   "source": [
    "add_item(['buku', 10, 20000], ['pensil', 30, 10000])"
   ]
  },
  {
   "cell_type": "code",
   "execution_count": 5,
   "metadata": {},
   "outputs": [
    {
     "name": "stdout",
     "output_type": "stream",
     "text": [
      "Masukkan secara terurut dalam format list: [nama barang, jumlah, harga per item]\n"
     ]
    }
   ],
   "source": [
    "add_item(['buku', 10], ['pensil', 30, 10000])"
   ]
  },
  {
   "cell_type": "code",
   "execution_count": 6,
   "metadata": {},
   "outputs": [
    {
     "name": "stdout",
     "output_type": "stream",
     "text": [
      "{'buku': [10, 20000], 'pensil': [30, 10000]}\n"
     ]
    }
   ],
   "source": [
    "print(order)"
   ]
  },
  {
   "cell_type": "code",
   "execution_count": 7,
   "metadata": {},
   "outputs": [
    {
     "name": "stdout",
     "output_type": "stream",
     "text": [
      "5 penghapus berhasil ditambahkan ke keranjang.\n"
     ]
    }
   ],
   "source": [
    "add_item(['penghapus', 5, 5000])"
   ]
  },
  {
   "cell_type": "code",
   "execution_count": 8,
   "metadata": {},
   "outputs": [
    {
     "name": "stdout",
     "output_type": "stream",
     "text": [
      "Barang dengan nama buku sudah ada dalam keranjang!\n",
      "Silahkan update jumlah atau harganya.\n"
     ]
    }
   ],
   "source": [
    "add_item(['BuKu', 5, 5000])"
   ]
  },
  {
   "cell_type": "code",
   "execution_count": 9,
   "metadata": {},
   "outputs": [
    {
     "name": "stdout",
     "output_type": "stream",
     "text": [
      "{'buku': [10, 20000], 'pensil': [30, 10000], 'penghapus': [5, 5000]}\n"
     ]
    }
   ],
   "source": [
    "print(order)"
   ]
  },
  {
   "cell_type": "code",
   "execution_count": 10,
   "metadata": {},
   "outputs": [],
   "source": [
    "from tabulate import tabulate\n",
    "\n",
    "def show_table(cart, \n",
    "               headers=[\"No\",\"Nama Item\", \"Jumlah Item\", \n",
    "                        \"Harga/item\", \"Total Harga\",\n",
    "                        \"Besar Potongan\", \"Harga Setelah Diskon\"],\n",
    "               table_format = \"outline\"):\n",
    "    '''\n",
    "    menampilkan tabel lis pembelian\n",
    "    \n",
    "    Parameters:\n",
    "        cart (dict)         : lis pembelian\n",
    "        header (list)       : lis nama kolom\n",
    "        table_format (str)  : tabulate table format\n",
    "                              https://pypi.org/project/tabulate/\n",
    "    Returns:\n",
    "        -\n",
    "    '''\n",
    "    # ubah data dictionary ke bentuk list\n",
    "    order_list = []\n",
    "    for key, val in cart.items():\n",
    "        temp = [key]\n",
    "        for item in val:\n",
    "            temp.append(item)\n",
    "        order_list.append(temp)\n",
    "    \n",
    "    # untuk menambahkan nomor pada kolom nomor\n",
    "    number_id = range(1, len(order_list)+1)\n",
    "    print(tabulate(order_list, headers=headers, tablefmt=table_format, showindex=number_id))    "
   ]
  },
  {
   "cell_type": "code",
   "execution_count": 11,
   "metadata": {},
   "outputs": [
    {
     "name": "stdout",
     "output_type": "stream",
     "text": [
      "+------+-------------+---------------+--------------+\n",
      "|   No | Nama Item   |   Jumlah Item |   Harga/item |\n",
      "+======+=============+===============+==============+\n",
      "|    1 | buku        |            10 |        20000 |\n",
      "|    2 | pensil      |            30 |        10000 |\n",
      "|    3 | penghapus   |             5 |         5000 |\n",
      "+------+-------------+---------------+--------------+\n"
     ]
    }
   ],
   "source": [
    "show_table(order)"
   ]
  },
  {
   "cell_type": "code",
   "execution_count": 12,
   "metadata": {},
   "outputs": [],
   "source": [
    "def check_order():\n",
    "    '''\n",
    "    lihat semua pembelian\n",
    "    \n",
    "    Parameters:\n",
    "        -\n",
    "    Returns:\n",
    "        -\n",
    "    '''\n",
    "    # check kesalahan input data\n",
    "    valid_entry = True\n",
    "    for key, val in order.items():\n",
    "        if not isinstance(key, str) or \\\n",
    "           not isinstance(val[0], int) or \\\n",
    "           not isinstance(val[1], int):\n",
    "           valid_entry = False\n",
    "           break\n",
    "\n",
    "    show_table(order)\n",
    "\n",
    "    if valid_entry:    \n",
    "        print('Pemesanan sudah benar')\n",
    "    else:\n",
    "        print(\"Terdapat kesalahan dalam input data\")"
   ]
  },
  {
   "cell_type": "code",
   "execution_count": 13,
   "metadata": {},
   "outputs": [
    {
     "name": "stdout",
     "output_type": "stream",
     "text": [
      "+------+-------------+---------------+--------------+\n",
      "|   No | Nama Item   |   Jumlah Item |   Harga/item |\n",
      "+======+=============+===============+==============+\n",
      "|    1 | buku        |            10 |        20000 |\n",
      "|    2 | pensil      |            30 |        10000 |\n",
      "|    3 | penghapus   |             5 |         5000 |\n",
      "+------+-------------+---------------+--------------+\n",
      "Pemesanan sudah benar\n"
     ]
    }
   ],
   "source": [
    "check_order()"
   ]
  },
  {
   "cell_type": "code",
   "execution_count": 14,
   "metadata": {},
   "outputs": [
    {
     "name": "stdout",
     "output_type": "stream",
     "text": [
      "5 kertas berhasil ditambahkan ke keranjang.\n"
     ]
    }
   ],
   "source": [
    "add_item(['kertas', 5, 'lembar'])"
   ]
  },
  {
   "cell_type": "code",
   "execution_count": 15,
   "metadata": {},
   "outputs": [
    {
     "name": "stdout",
     "output_type": "stream",
     "text": [
      "+------+-------------+---------------+--------------+\n",
      "|   No | Nama Item   |   Jumlah Item | Harga/item   |\n",
      "+======+=============+===============+==============+\n",
      "|    1 | buku        |            10 | 20000        |\n",
      "|    2 | pensil      |            30 | 10000        |\n",
      "|    3 | penghapus   |             5 | 5000         |\n",
      "|    4 | kertas      |             5 | lembar       |\n",
      "+------+-------------+---------------+--------------+\n",
      "Terdapat kesalahan dalam input data\n"
     ]
    }
   ],
   "source": [
    "check_order()"
   ]
  },
  {
   "cell_type": "code",
   "execution_count": 16,
   "metadata": {},
   "outputs": [],
   "source": [
    "def delete_item(item_name):\n",
    "    '''\n",
    "    hapus suatu barang tertentu dari lis pembelian\n",
    "    \n",
    "    Parameters:\n",
    "        item_name (str) : nama barang\n",
    "    Returns:\n",
    "        -\n",
    "    '''      \n",
    "    available, item_name_in_cart = is_in_cart(item_name, order)\n",
    "    if available:\n",
    "        del order[item_name_in_cart]\n",
    "        print(item_name_in_cart, 'berhasil dihapus dari keranjang.')\n",
    "    else:\n",
    "        print('Barang tidak ada di keranjang. Periksa lagi !')"
   ]
  },
  {
   "cell_type": "code",
   "execution_count": 17,
   "metadata": {},
   "outputs": [
    {
     "name": "stdout",
     "output_type": "stream",
     "text": [
      "kertas berhasil dihapus dari keranjang.\n"
     ]
    }
   ],
   "source": [
    "delete_item('kErtas')"
   ]
  },
  {
   "cell_type": "code",
   "execution_count": 18,
   "metadata": {},
   "outputs": [
    {
     "name": "stdout",
     "output_type": "stream",
     "text": [
      "+------+-------------+---------------+--------------+\n",
      "|   No | Nama Item   |   Jumlah Item |   Harga/item |\n",
      "+======+=============+===============+==============+\n",
      "|    1 | buku        |            10 |        20000 |\n",
      "|    2 | pensil      |            30 |        10000 |\n",
      "|    3 | penghapus   |             5 |         5000 |\n",
      "+------+-------------+---------------+--------------+\n",
      "Pemesanan sudah benar\n"
     ]
    }
   ],
   "source": [
    "check_order()"
   ]
  },
  {
   "cell_type": "code",
   "execution_count": 19,
   "metadata": {},
   "outputs": [],
   "source": [
    "def update_item_name(item_name, new_name):\n",
    "    '''\n",
    "    update nama barang\n",
    "    \n",
    "    Parameters:\n",
    "        item_name (str) : nama lama dari barang\n",
    "        new_name (str)  : nama baru dari barang\n",
    "    Returns:\n",
    "        -\n",
    "    '''          \n",
    "    available, item_name_in_cart = is_in_cart(item_name, order)\n",
    "    if available:\n",
    "        order[new_name] = order[item_name_in_cart]\n",
    "        del order[item_name_in_cart]\n",
    "        print('Nama barang berhasil diperbaharui.')\n",
    "    else:\n",
    "        print('Barang tidak ada di keranjang. Periksa lagi !')"
   ]
  },
  {
   "cell_type": "code",
   "execution_count": 20,
   "metadata": {},
   "outputs": [
    {
     "name": "stdout",
     "output_type": "stream",
     "text": [
      "8 Buku Gambar berhasil ditambahkan ke keranjang.\n"
     ]
    }
   ],
   "source": [
    "add_item(['Buku Gambar', 8, 100000])"
   ]
  },
  {
   "cell_type": "code",
   "execution_count": 21,
   "metadata": {},
   "outputs": [
    {
     "name": "stdout",
     "output_type": "stream",
     "text": [
      "Nama barang berhasil diperbaharui.\n"
     ]
    }
   ],
   "source": [
    "update_item_name('buku gambar', 'Drawing book')"
   ]
  },
  {
   "cell_type": "code",
   "execution_count": 22,
   "metadata": {},
   "outputs": [
    {
     "name": "stdout",
     "output_type": "stream",
     "text": [
      "+------+--------------+---------------+--------------+\n",
      "|   No | Nama Item    |   Jumlah Item |   Harga/item |\n",
      "+======+==============+===============+==============+\n",
      "|    1 | buku         |            10 |        20000 |\n",
      "|    2 | pensil       |            30 |        10000 |\n",
      "|    3 | penghapus    |             5 |         5000 |\n",
      "|    4 | Drawing book |             8 |       100000 |\n",
      "+------+--------------+---------------+--------------+\n",
      "Pemesanan sudah benar\n"
     ]
    }
   ],
   "source": [
    "check_order()"
   ]
  },
  {
   "cell_type": "code",
   "execution_count": 23,
   "metadata": {},
   "outputs": [],
   "source": [
    "def update_item_qty(item_name, new_qty):\n",
    "    '''\n",
    "    update jumlah barang\n",
    "    \n",
    "    Parameters:\n",
    "        item_name (str) : nama barang\n",
    "        new_qty (int)   : jumlah barang  \n",
    "    Returns:\n",
    "        -\n",
    "    '''          \n",
    "    available, item_name_in_cart = is_in_cart(item_name, order)\n",
    "    if available:\n",
    "        # update jumlah barang\n",
    "        order[item_name_in_cart][0] = new_qty\n",
    "        print('Jumlah', item_name_in_cart, \n",
    "              'berhasil diperbaharui menjadi', new_qty)\n",
    "    else:\n",
    "        print('Barang tidak ada di keranjang. Periksa lagi !')"
   ]
  },
  {
   "cell_type": "code",
   "execution_count": 24,
   "metadata": {},
   "outputs": [
    {
     "name": "stdout",
     "output_type": "stream",
     "text": [
      "Jumlah Drawing book berhasil diperbaharui menjadi 50\n"
     ]
    }
   ],
   "source": [
    "update_item_qty('Drawing bOok', 50)"
   ]
  },
  {
   "cell_type": "code",
   "execution_count": 25,
   "metadata": {},
   "outputs": [
    {
     "name": "stdout",
     "output_type": "stream",
     "text": [
      "+------+--------------+---------------+--------------+\n",
      "|   No | Nama Item    |   Jumlah Item |   Harga/item |\n",
      "+======+==============+===============+==============+\n",
      "|    1 | buku         |            10 |        20000 |\n",
      "|    2 | pensil       |            30 |        10000 |\n",
      "|    3 | penghapus    |             5 |         5000 |\n",
      "|    4 | Drawing book |            50 |       100000 |\n",
      "+------+--------------+---------------+--------------+\n",
      "Pemesanan sudah benar\n"
     ]
    }
   ],
   "source": [
    "check_order()"
   ]
  },
  {
   "cell_type": "code",
   "execution_count": 26,
   "metadata": {},
   "outputs": [],
   "source": [
    "def update_item_price(item_name, new_price):\n",
    "    '''\n",
    "    update harga barang\n",
    "    \n",
    "    Parameters:\n",
    "        item_name (str) : nama barang\n",
    "        new_price (int) : harga barang  \n",
    "    Returns:\n",
    "        -\n",
    "    '''      \n",
    "    available, item_name_in_cart = is_in_cart(item_name, order)\n",
    "    if available:\n",
    "        # update harga barang\n",
    "        order[item_name_in_cart][1] = new_price\n",
    "        # update total harga\n",
    "        # order[item_name_in_cart].append(order[item_name_in_cart][0] \n",
    "        #                                 * order[item_name_in_cart][1])      \n",
    "        print('Harga', item_name_in_cart, 'berhasil diperbaharui menjadi', new_price, 'per item')\n",
    "    else:\n",
    "        print('Barang tidak ada di keranjang. Periksa lagi !')"
   ]
  },
  {
   "cell_type": "code",
   "execution_count": 27,
   "metadata": {},
   "outputs": [
    {
     "name": "stdout",
     "output_type": "stream",
     "text": [
      "Harga Drawing book berhasil diperbaharui menjadi 120000 per item\n"
     ]
    }
   ],
   "source": [
    "update_item_price('Drawing book', 120000)"
   ]
  },
  {
   "cell_type": "code",
   "execution_count": 28,
   "metadata": {},
   "outputs": [
    {
     "name": "stdout",
     "output_type": "stream",
     "text": [
      "+------+--------------+---------------+--------------+\n",
      "|   No | Nama Item    |   Jumlah Item |   Harga/item |\n",
      "+======+==============+===============+==============+\n",
      "|    1 | buku         |            10 |        20000 |\n",
      "|    2 | pensil       |            30 |        10000 |\n",
      "|    3 | penghapus    |             5 |         5000 |\n",
      "|    4 | Drawing book |            50 |       120000 |\n",
      "+------+--------------+---------------+--------------+\n",
      "Pemesanan sudah benar\n"
     ]
    }
   ],
   "source": [
    "check_order()"
   ]
  },
  {
   "cell_type": "code",
   "execution_count": 29,
   "metadata": {},
   "outputs": [],
   "source": [
    "def reset_transaction():\n",
    "    '''\n",
    "    hapus semua transaksi\n",
    "    \n",
    "    Parameters:\n",
    "        -\n",
    "    Returns:\n",
    "        order (dict): dictionary kosong\n",
    "    '''      \n",
    "    order = {}\n",
    "    print('Semua item berhasil dihapus !')\n",
    "    return order"
   ]
  },
  {
   "cell_type": "code",
   "execution_count": 30,
   "metadata": {},
   "outputs": [
    {
     "name": "stdout",
     "output_type": "stream",
     "text": [
      "Semua item berhasil dihapus !\n"
     ]
    }
   ],
   "source": [
    "order = reset_transaction()"
   ]
  },
  {
   "cell_type": "code",
   "execution_count": 31,
   "metadata": {},
   "outputs": [
    {
     "name": "stdout",
     "output_type": "stream",
     "text": [
      "+------+-------------+---------------+--------------+---------------+------------------+------------------------+\n",
      "| No   | Nama Item   | Jumlah Item   | Harga/item   | Total Harga   | Besar Potongan   | Harga Setelah Diskon   |\n",
      "+======+=============+===============+==============+===============+==================+========================+\n",
      "+------+-------------+---------------+--------------+---------------+------------------+------------------------+\n",
      "Pemesanan sudah benar\n"
     ]
    }
   ],
   "source": [
    "check_order()"
   ]
  },
  {
   "cell_type": "code",
   "execution_count": 32,
   "metadata": {},
   "outputs": [
    {
     "name": "stdout",
     "output_type": "stream",
     "text": [
      "10 buku berhasil ditambahkan ke keranjang.\n",
      "30 pensil berhasil ditambahkan ke keranjang.\n",
      "20 penghapus berhasil ditambahkan ke keranjang.\n"
     ]
    }
   ],
   "source": [
    "add_item(['buku', 10, 20000], \n",
    "         ['pensil', 30, 10000],\n",
    "         ['penghapus', 20, 1000])"
   ]
  },
  {
   "cell_type": "code",
   "execution_count": 33,
   "metadata": {},
   "outputs": [
    {
     "name": "stdout",
     "output_type": "stream",
     "text": [
      "+------+-------------+---------------+--------------+\n",
      "|   No | Nama Item   |   Jumlah Item |   Harga/item |\n",
      "+======+=============+===============+==============+\n",
      "|    1 | buku        |            10 |        20000 |\n",
      "|    2 | pensil      |            30 |        10000 |\n",
      "|    3 | penghapus   |            20 |         1000 |\n",
      "+------+-------------+---------------+--------------+\n",
      "Pemesanan sudah benar\n"
     ]
    }
   ],
   "source": [
    "check_order()"
   ]
  },
  {
   "cell_type": "code",
   "execution_count": 34,
   "metadata": {},
   "outputs": [],
   "source": [
    "def promo(harga):\n",
    "    '''\n",
    "    hitung besarnya potongan dari diskon\n",
    "    serta harga total setelah diskon\n",
    "    \n",
    "    Parameters:\n",
    "        harga (int) : harga awal sebelum diskon\n",
    "    Returns:\n",
    "        besar_potongan (int): besarnya potongan karena diskon\n",
    "        harga_setelah_diskon (int): harga setelah diskon\n",
    "    '''     \n",
    "    diskon = 0\n",
    "    if harga > 500000:\n",
    "        diskon = 0.07\n",
    "    elif harga > 300000:    \n",
    "        diskon = 0.06\n",
    "    elif harga > 200000:\n",
    "        diskon = 0.05\n",
    "        \n",
    "    besar_potongan = int(harga * diskon)\n",
    "    harga_setelah_diskon = int(harga - besar_potongan)\n",
    "    \n",
    "    return besar_potongan, harga_setelah_diskon"
   ]
  },
  {
   "cell_type": "code",
   "execution_count": 35,
   "metadata": {},
   "outputs": [],
   "source": [
    "import copy\n",
    "\n",
    "def check_out():\n",
    "    '''\n",
    "    Hitung dan cetak total belanja setelah diskon\n",
    "    \n",
    "    Parameters:\n",
    "        -\n",
    "    Returns:\n",
    "        temp_order_list (dict): list belanja yang dilengkapi\n",
    "                                besar potongan dan\n",
    "                                harga setelah diskon\n",
    "    '''     \n",
    "    temp_order_list = copy.deepcopy(order)\n",
    "    total_harga_sebelum_diskon = 0\n",
    "    total_harga_setelah_diskon = 0\n",
    "    total_potongan = 0\n",
    "\n",
    "    for key, val in temp_order_list.items():\n",
    "        # tambahkan kolom total harga\n",
    "        total_harga = temp_order_list[key][0] * temp_order_list[key][1]\n",
    "        temp_order_list[key].append(total_harga)\n",
    "                \n",
    "        # tambahkan kolom potongan dan harga setelah diskon\n",
    "        besar_potongan, harga_setelah_diskon = promo(total_harga)\n",
    "        temp_order_list[key].append(besar_potongan)\n",
    "        temp_order_list[key].append(harga_setelah_diskon)        \n",
    "        \n",
    "        # hitung total\n",
    "        total_harga_sebelum_diskon += total_harga \n",
    "        total_potongan += besar_potongan\n",
    "        total_harga_setelah_diskon += harga_setelah_diskon\n",
    "          \n",
    "    # Cetak tabel berisikan info potongan dan harga setelah diskon\n",
    "    show_table(temp_order_list)\n",
    "    \n",
    "    # Cetak notifikasi\n",
    "    print('Total belanja Anda sebelum potongan:', total_harga_sebelum_diskon, 'rupiah')\n",
    "    print('Anda telah berhemat', total_potongan, 'rupiah')\n",
    "    print('Total belanja Anda menjadi', total_harga_setelah_diskon, 'rupiah')\n",
    "    \n",
    "    return temp_order_list"
   ]
  },
  {
   "cell_type": "code",
   "execution_count": 36,
   "metadata": {},
   "outputs": [
    {
     "name": "stdout",
     "output_type": "stream",
     "text": [
      "+------+-------------+---------------+--------------+---------------+------------------+------------------------+\n",
      "|   No | Nama Item   |   Jumlah Item |   Harga/item |   Total Harga |   Besar Potongan |   Harga Setelah Diskon |\n",
      "+======+=============+===============+==============+===============+==================+========================+\n",
      "|    1 | buku        |            10 |        20000 |        200000 |                0 |                 200000 |\n",
      "|    2 | pensil      |            30 |        10000 |        300000 |            15000 |                 285000 |\n",
      "|    3 | penghapus   |            20 |         1000 |         20000 |                0 |                  20000 |\n",
      "+------+-------------+---------------+--------------+---------------+------------------+------------------------+\n",
      "Total belanja Anda sebelum potongan: 520000 rupiah\n",
      "Anda telah berhemat 15000 rupiah\n",
      "Total belanja Anda menjadi 505000 rupiah\n"
     ]
    }
   ],
   "source": [
    "final_order = check_out()"
   ]
  },
  {
   "cell_type": "code",
   "execution_count": 37,
   "metadata": {},
   "outputs": [
    {
     "name": "stdout",
     "output_type": "stream",
     "text": [
      "+------+-------------+---------------+--------------+\n",
      "|   No | Nama Item   |   Jumlah Item |   Harga/item |\n",
      "+======+=============+===============+==============+\n",
      "|    1 | buku        |            10 |        20000 |\n",
      "|    2 | pensil      |            30 |        10000 |\n",
      "|    3 | penghapus   |            20 |         1000 |\n",
      "+------+-------------+---------------+--------------+\n",
      "Pemesanan sudah benar\n"
     ]
    }
   ],
   "source": [
    "check_order()"
   ]
  },
  {
   "cell_type": "code",
   "execution_count": 38,
   "metadata": {},
   "outputs": [
    {
     "name": "stdout",
     "output_type": "stream",
     "text": [
      "10 tas berhasil ditambahkan ke keranjang.\n"
     ]
    }
   ],
   "source": [
    "add_item(['tas', 10, 100000])"
   ]
  },
  {
   "cell_type": "code",
   "execution_count": 39,
   "metadata": {},
   "outputs": [
    {
     "name": "stdout",
     "output_type": "stream",
     "text": [
      "+------+-------------+---------------+--------------+---------------+------------------+------------------------+\n",
      "|   No | Nama Item   |   Jumlah Item |   Harga/item |   Total Harga |   Besar Potongan |   Harga Setelah Diskon |\n",
      "+======+=============+===============+==============+===============+==================+========================+\n",
      "|    1 | buku        |            10 |        20000 |        200000 |                0 |                 200000 |\n",
      "|    2 | pensil      |            30 |        10000 |        300000 |            15000 |                 285000 |\n",
      "|    3 | penghapus   |            20 |         1000 |         20000 |                0 |                  20000 |\n",
      "|    4 | tas         |            10 |       100000 |       1000000 |            70000 |                 930000 |\n",
      "+------+-------------+---------------+--------------+---------------+------------------+------------------------+\n",
      "Total belanja Anda sebelum potongan: 1520000 rupiah\n",
      "Anda telah berhemat 85000 rupiah\n",
      "Total belanja Anda menjadi 1435000 rupiah\n"
     ]
    }
   ],
   "source": [
    "final_order = check_out()"
   ]
  },
  {
   "cell_type": "code",
   "execution_count": 40,
   "metadata": {},
   "outputs": [],
   "source": [
    "# import library sqlalchemy\n",
    "import sqlalchemy\n",
    "from sqlalchemy import create_engine, text"
   ]
  },
  {
   "cell_type": "code",
   "execution_count": 41,
   "metadata": {},
   "outputs": [],
   "source": [
    "# Konfigurasi database\n",
    "# buat variabel konfigurasi sebagai konstan\n",
    "# buat sqlite sebagai engine\n",
    "ENGINE = create_engine('sqlite:///data.db')"
   ]
  },
  {
   "cell_type": "code",
   "execution_count": 42,
   "metadata": {},
   "outputs": [],
   "source": [
    "# Koneksi database\n",
    "# buat variabel koneksi sebagai konstan\n",
    "CONN = ENGINE.connect()"
   ]
  },
  {
   "cell_type": "code",
   "execution_count": 43,
   "metadata": {},
   "outputs": [],
   "source": [
    "# buat fungsi untuk membuat table pada database\n",
    "def create_table():\n",
    "    \"\"\"\n",
    "    Fungsi untuk membuat table baru\n",
    "\n",
    "    args:\n",
    "        None\n",
    "\n",
    "    return:\n",
    "        None\n",
    "    \"\"\"\n",
    "    # Query untuk membuat table dengan nama transactions\n",
    "    query_buat_table = \"\"\"\n",
    "    CREATE TABLE transactions(\n",
    "        ID INTEGER PRIMARY KEY AUTOINCREMENT,\n",
    "        nama_item STRING,\n",
    "        jumlah_item INTEGER,\n",
    "        harga INTEGER,\n",
    "        total_harga INTEGER,\n",
    "        diskon INTEGER,\n",
    "        harga_diskon INTEGER)\n",
    "    \"\"\"\n",
    "\n",
    "    # Eksekusi query\n",
    "    CONN.execute(text(query_buat_table))"
   ]
  },
  {
   "cell_type": "code",
   "execution_count": 44,
   "metadata": {},
   "outputs": [],
   "source": [
    "check = sqlalchemy.inspect(ENGINE)\n",
    "is_tbl_exist = check.has_table(\"transactions\") \n",
    "\n",
    "if not is_tbl_exist:\n",
    "    # memanggil fungsi create table\n",
    "    create_table(CONN) "
   ]
  },
  {
   "cell_type": "code",
   "execution_count": 45,
   "metadata": {},
   "outputs": [
    {
     "name": "stdout",
     "output_type": "stream",
     "text": [
      "True\n"
     ]
    }
   ],
   "source": [
    "# Memeriksa table yang sudah dibuat\n",
    "check = sqlalchemy.inspect(ENGINE)\n",
    "\n",
    "print(check.has_table(\"transactions\"))"
   ]
  },
  {
   "cell_type": "code",
   "execution_count": 46,
   "metadata": {},
   "outputs": [
    {
     "data": {
      "text/plain": [
       "{'buku': [10, 20000],\n",
       " 'pensil': [30, 10000],\n",
       " 'penghapus': [20, 1000],\n",
       " 'tas': [10, 100000]}"
      ]
     },
     "execution_count": 46,
     "metadata": {},
     "output_type": "execute_result"
    }
   ],
   "source": [
    "order"
   ]
  },
  {
   "cell_type": "code",
   "execution_count": 47,
   "metadata": {},
   "outputs": [
    {
     "data": {
      "text/plain": [
       "{'buku': [10, 20000, 200000, 0, 200000],\n",
       " 'pensil': [30, 10000, 300000, 15000, 285000],\n",
       " 'penghapus': [20, 1000, 20000, 0, 20000],\n",
       " 'tas': [10, 100000, 1000000, 70000, 930000]}"
      ]
     },
     "execution_count": 47,
     "metadata": {},
     "output_type": "execute_result"
    }
   ],
   "source": [
    "final_order"
   ]
  },
  {
   "cell_type": "code",
   "execution_count": 48,
   "metadata": {},
   "outputs": [],
   "source": [
    "data_list = [{'nama_item': key, \n",
    "              'jumlah_item': value[0], \n",
    "              'harga': value[1], \n",
    "              'total_harga': value[2],\n",
    "              'diskon': value[3],\n",
    "              'harga_diskon': value[4]} for key, value in final_order.items()]"
   ]
  },
  {
   "cell_type": "code",
   "execution_count": 49,
   "metadata": {},
   "outputs": [
    {
     "data": {
      "text/plain": [
       "[{'nama_item': 'buku',\n",
       "  'jumlah_item': 10,\n",
       "  'harga': 20000,\n",
       "  'total_harga': 200000,\n",
       "  'diskon': 0,\n",
       "  'harga_diskon': 200000},\n",
       " {'nama_item': 'pensil',\n",
       "  'jumlah_item': 30,\n",
       "  'harga': 10000,\n",
       "  'total_harga': 300000,\n",
       "  'diskon': 15000,\n",
       "  'harga_diskon': 285000},\n",
       " {'nama_item': 'penghapus',\n",
       "  'jumlah_item': 20,\n",
       "  'harga': 1000,\n",
       "  'total_harga': 20000,\n",
       "  'diskon': 0,\n",
       "  'harga_diskon': 20000},\n",
       " {'nama_item': 'tas',\n",
       "  'jumlah_item': 10,\n",
       "  'harga': 100000,\n",
       "  'total_harga': 1000000,\n",
       "  'diskon': 70000,\n",
       "  'harga_diskon': 930000}]"
      ]
     },
     "execution_count": 49,
     "metadata": {},
     "output_type": "execute_result"
    }
   ],
   "source": [
    "data_list"
   ]
  },
  {
   "cell_type": "code",
   "execution_count": 50,
   "metadata": {},
   "outputs": [],
   "source": [
    "# fungsi untuk memasukkan data ke database\n",
    "def insert_to_table(data_list):\n",
    "    \"\"\"\n",
    "    Fungsi untuk memasukkan data ke table database\n",
    "\n",
    "    args:\n",
    "        data_list (list) : nama list dari data order\n",
    "    return:\n",
    "        None\n",
    "    \"\"\"\n",
    "  \n",
    "    # Definisi SQL query untuk memasukkan data ke dalam table\n",
    "    insert_query = text(\"\"\"\n",
    "    INSERT INTO \n",
    "        transactions(nama_item,\n",
    "                  jumlah_item,\n",
    "                  harga,\n",
    "                  total_harga,\n",
    "                  diskon,\n",
    "                  harga_diskon)\n",
    "        VALUES(:nama_item,\n",
    "               :jumlah_item,\n",
    "               :harga,\n",
    "               :total_harga,\n",
    "               :diskon,\n",
    "               :harga_diskon)\n",
    "    \"\"\")\n",
    "\n",
    "    # Iterasi untuk memasukkan data per baris dari data list\n",
    "    for item in data_list:\n",
    "\n",
    "        # Eksekusi insert query untuk setiap baris data\n",
    "        CONN.execute(insert_query, item)"
   ]
  },
  {
   "cell_type": "code",
   "execution_count": 51,
   "metadata": {},
   "outputs": [],
   "source": [
    "insert_to_table(data_list)"
   ]
  },
  {
   "cell_type": "code",
   "execution_count": 52,
   "metadata": {},
   "outputs": [
    {
     "name": "stdout",
     "output_type": "stream",
     "text": [
      "1 buku 10 20000 0 200000\n",
      "2 pensil 30 10000 15000 285000\n",
      "3 penghapus 20 1000 0 20000\n",
      "4 tas 10 100000 70000 930000\n"
     ]
    }
   ],
   "source": [
    "# Eksekusi query untuk menampilkan data yang telah di INSERT\n",
    "result = CONN.execute(text(\"SELECT * FROM transactions\"))\n",
    "\n",
    "# Melakukan iterasi untuk menampilkan hasil query\n",
    "for res in result:\n",
    "    print(res.ID,\n",
    "          res.nama_item,\n",
    "          res.jumlah_item, \n",
    "          res.harga, \n",
    "          res.diskon, \n",
    "          res.harga_diskon)"
   ]
  },
  {
   "cell_type": "code",
   "execution_count": 53,
   "metadata": {},
   "outputs": [
    {
     "name": "stdout",
     "output_type": "stream",
     "text": [
      "+------+-------------+---------------+--------------+---------------+------------------+------------------------+\n",
      "|   No | Nama Item   |   Jumlah Item |   Harga/item |   Total Harga |   Besar Potongan |   Harga Setelah Diskon |\n",
      "+======+=============+===============+==============+===============+==================+========================+\n",
      "|    1 | buku        |            10 |        20000 |        200000 |                0 |                 200000 |\n",
      "|    2 | pensil      |            30 |        10000 |        300000 |            15000 |                 285000 |\n",
      "|    3 | penghapus   |            20 |         1000 |         20000 |                0 |                  20000 |\n",
      "|    4 | tas         |            10 |       100000 |       1000000 |            70000 |                 930000 |\n",
      "+------+-------------+---------------+--------------+---------------+------------------+------------------------+\n",
      "Total belanja Anda sebelum potongan: 1520000 rupiah\n",
      "Anda telah berhemat 85000 rupiah\n",
      "Total belanja Anda menjadi 1435000 rupiah\n"
     ]
    }
   ],
   "source": [
    "final_order = check_out()"
   ]
  },
  {
   "cell_type": "code",
   "execution_count": null,
   "metadata": {},
   "outputs": [],
   "source": []
  }
 ],
 "metadata": {
  "kernelspec": {
   "display_name": "Python 3 (ipykernel)",
   "language": "python",
   "name": "python3"
  },
  "language_info": {
   "codemirror_mode": {
    "name": "ipython",
    "version": 3
   },
   "file_extension": ".py",
   "mimetype": "text/x-python",
   "name": "python",
   "nbconvert_exporter": "python",
   "pygments_lexer": "ipython3",
   "version": "3.9.7"
  }
 },
 "nbformat": 4,
 "nbformat_minor": 4
}
